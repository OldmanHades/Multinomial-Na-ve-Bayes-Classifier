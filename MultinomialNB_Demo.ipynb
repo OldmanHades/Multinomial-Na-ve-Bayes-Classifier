{
  "cells": [
    {
      "cell_type": "markdown",
      "metadata": {
        "id": "view-in-github",
        "colab_type": "text"
      },
      "source": [
        "<a href=\"https://colab.research.google.com/github/OldmanHades/Multinomial-Na-ve-Bayes-Classifier/blob/main/MultinomialNB_Demo.ipynb\" target=\"_parent\"><img src=\"https://colab.research.google.com/assets/colab-badge.svg\" alt=\"Open In Colab\"/></a>"
      ]
    },
    {
      "cell_type": "markdown",
      "id": "b05a24c4",
      "metadata": {
        "id": "b05a24c4"
      },
      "source": [
        "# Multinomial Naïve Bayes Classifier - Youtube Demo"
      ]
    },
    {
      "cell_type": "markdown",
      "id": "5d31a7a8",
      "metadata": {
        "id": "5d31a7a8"
      },
      "source": [
        "### The Database"
      ]
    },
    {
      "cell_type": "markdown",
      "id": "27ced58e",
      "metadata": {
        "id": "27ced58e"
      },
      "source": [
        "For this demo the data has been taken from https://archive.ics.uci.edu/ml/machine-learning-databases/00380/ "
      ]
    },
    {
      "cell_type": "markdown",
      "id": "48c64582",
      "metadata": {
        "id": "48c64582"
      },
      "source": [
        "While the data does come from UCI, they have been somewhat changed. So I included them with the archive"
      ]
    },
    {
      "cell_type": "markdown",
      "id": "b96e10d1",
      "metadata": {
        "id": "b96e10d1"
      },
      "source": [
        "### Importing the libraries"
      ]
    },
    {
      "cell_type": "code",
      "execution_count": null,
      "id": "e977bd2f",
      "metadata": {
        "id": "e977bd2f"
      },
      "outputs": [],
      "source": [
        "# A module for handling data\n",
        "import pandas as pd\n",
        "# A module that helps finding all pathnames that match a certain pattern\n",
        "import glob\n",
        "\n",
        "# A class that will be used to count the number of times a word has occurred in a text\n",
        "from sklearn.feature_extraction.text import CountVectorizer\n",
        "\n",
        "# A method used to split the dataset into training and testing\n",
        "from sklearn.model_selection import train_test_split\n",
        "\n",
        "# The multinomial type of the Naive Bayes classfier\n",
        "from sklearn.naive_bayes import MultinomialNB, ComplementNB\n",
        "\n",
        "# Importing different metrics that would allow us to evaluate our model\n",
        "from sklearn.metrics import classification_report, ConfusionMatrixDisplay\n",
        "\n",
        "# Python's plotting module. \n",
        "# We improve the graphics by overriding the default matplotlib styles with those of seaborn\n",
        "import matplotlib.pyplot as plt\n",
        "import seaborn as sns\n",
        "\n",
        "# The Python package for scientific computing\n",
        "import numpy as np"
      ]
    },
    {
      "cell_type": "markdown",
      "id": "83886a48",
      "metadata": {
        "id": "83886a48"
      },
      "source": [
        "### Reading the database"
      ]
    },
    {
      "cell_type": "code",
      "execution_count": null,
      "id": "1ea5c630",
      "metadata": {
        "id": "1ea5c630",
        "outputId": "d7d25029-f3c5-4632-f983-d80c4373badf"
      },
      "outputs": [
        {
          "data": {
            "text/plain": [
              "['Youtube02.csv',\n",
              " 'Youtube04.csv',\n",
              " 'Youtube01.csv',\n",
              " 'Youtube03.csv',\n",
              " 'Youtube05.csv']"
            ]
          },
          "execution_count": 13,
          "metadata": {},
          "output_type": "execute_result"
        }
      ],
      "source": [
        "# Using the 'glob()' method, create a variable of type 'list' called 'files'. \n",
        "# It stores the paths of all files in the folder 'youtube-dataset' whose extension is .csv.\n",
        "# Make sure that the resulting 'files' call actually reveals data and not empty brackets. Try to put the '.csv' files into the same folder as your current file as it makes it easier to incorporate.\n",
        "files = glob.glob('*.csv')\n",
        "files"
      ]
    },
    {
      "cell_type": "code",
      "execution_count": null,
      "id": "9ee371b8",
      "metadata": {
        "id": "9ee371b8"
      },
      "outputs": [],
      "source": [
        "# An empty array which will be used to store all 5 dataframes corresponding to the 5 .csv files. \n",
        "all_df = []\n",
        "\n",
        "# Run a for-loop where the iterator 'i' goes through each filename in the 'files' array.\n",
        "# During each iteration, create a pandas DataFrame by reading the current .csv file. \n",
        "# Drop the unneccesary columns (along axis 1) and append the dataframe to the 'all_df' list.\n",
        "for i in files:\n",
        "    all_df.append(pd.read_csv(i).drop(['COMMENT_ID', 'AUTHOR', 'DATE'], axis = 1))"
      ]
    },
    {
      "cell_type": "code",
      "execution_count": null,
      "id": "2ef81a88",
      "metadata": {
        "id": "2ef81a88",
        "outputId": "514b4034-02f6-4969-fb77-6a411e5916a9"
      },
      "outputs": [
        {
          "data": {
            "text/html": [
              "<div>\n",
              "<style scoped>\n",
              "    .dataframe tbody tr th:only-of-type {\n",
              "        vertical-align: middle;\n",
              "    }\n",
              "\n",
              "    .dataframe tbody tr th {\n",
              "        vertical-align: top;\n",
              "    }\n",
              "\n",
              "    .dataframe thead th {\n",
              "        text-align: right;\n",
              "    }\n",
              "</style>\n",
              "<table border=\"1\" class=\"dataframe\">\n",
              "  <thead>\n",
              "    <tr style=\"text-align: right;\">\n",
              "      <th></th>\n",
              "      <th>CONTENT</th>\n",
              "      <th>CLASS</th>\n",
              "    </tr>\n",
              "  </thead>\n",
              "  <tbody>\n",
              "    <tr>\n",
              "      <th>0</th>\n",
              "      <td>i love this so much. AND also I Generate Free ...</td>\n",
              "      <td>1</td>\n",
              "    </tr>\n",
              "    <tr>\n",
              "      <th>1</th>\n",
              "      <td>http://www.billboard.com/articles/columns/pop-...</td>\n",
              "      <td>1</td>\n",
              "    </tr>\n",
              "    <tr>\n",
              "      <th>2</th>\n",
              "      <td>Hey guys! Please join me in my fight to help a...</td>\n",
              "      <td>1</td>\n",
              "    </tr>\n",
              "    <tr>\n",
              "      <th>3</th>\n",
              "      <td>http://psnboss.com/?ref=2tGgp3pV6L this is the...</td>\n",
              "      <td>1</td>\n",
              "    </tr>\n",
              "    <tr>\n",
              "      <th>4</th>\n",
              "      <td>Hey everyone. Watch this trailer!!!!!!!!  http...</td>\n",
              "      <td>1</td>\n",
              "    </tr>\n",
              "    <tr>\n",
              "      <th>...</th>\n",
              "      <td>...</td>\n",
              "      <td>...</td>\n",
              "    </tr>\n",
              "    <tr>\n",
              "      <th>345</th>\n",
              "      <td>This song means so much to me thank you  soooo...</td>\n",
              "      <td>0</td>\n",
              "    </tr>\n",
              "    <tr>\n",
              "      <th>346</th>\n",
              "      <td>&amp;lt;3﻿</td>\n",
              "      <td>0</td>\n",
              "    </tr>\n",
              "    <tr>\n",
              "      <th>347</th>\n",
              "      <td>KATY PERRY, I AM THE \"DÉCIO CABELO\", \"DECIO HA...</td>\n",
              "      <td>1</td>\n",
              "    </tr>\n",
              "    <tr>\n",
              "      <th>348</th>\n",
              "      <td>Honestly speaking except taylor swift and adel...</td>\n",
              "      <td>0</td>\n",
              "    </tr>\n",
              "    <tr>\n",
              "      <th>349</th>\n",
              "      <td>who is going to reach the billion first : katy...</td>\n",
              "      <td>0</td>\n",
              "    </tr>\n",
              "  </tbody>\n",
              "</table>\n",
              "<p>350 rows × 2 columns</p>\n",
              "</div>"
            ],
            "text/plain": [
              "                                               CONTENT  CLASS\n",
              "0    i love this so much. AND also I Generate Free ...      1\n",
              "1    http://www.billboard.com/articles/columns/pop-...      1\n",
              "2    Hey guys! Please join me in my fight to help a...      1\n",
              "3    http://psnboss.com/?ref=2tGgp3pV6L this is the...      1\n",
              "4    Hey everyone. Watch this trailer!!!!!!!!  http...      1\n",
              "..                                                 ...    ...\n",
              "345  This song means so much to me thank you  soooo...      0\n",
              "346                                             &lt;3﻿      0\n",
              "347  KATY PERRY, I AM THE \"DÉCIO CABELO\", \"DECIO HA...      1\n",
              "348  Honestly speaking except taylor swift and adel...      0\n",
              "349  who is going to reach the billion first : katy...      0\n",
              "\n",
              "[350 rows x 2 columns]"
            ]
          },
          "execution_count": 15,
          "metadata": {},
          "output_type": "execute_result"
        }
      ],
      "source": [
        "# Look at the first item in the list\n",
        "all_df[0]"
      ]
    },
    {
      "cell_type": "code",
      "execution_count": null,
      "id": "0323c28a",
      "metadata": {
        "id": "0323c28a",
        "outputId": "6f1597f6-cc57-4d18-d321-98b0cd19dc5b"
      },
      "outputs": [
        {
          "data": {
            "text/plain": [
              "5"
            ]
          },
          "execution_count": 16,
          "metadata": {},
          "output_type": "execute_result"
        }
      ],
      "source": [
        "# Check the length of the list\n",
        "len(all_df)"
      ]
    },
    {
      "cell_type": "code",
      "execution_count": null,
      "id": "0fdc1fc2",
      "metadata": {
        "id": "0fdc1fc2",
        "outputId": "064dce8b-bfab-4b19-f9f0-0cffac319c84"
      },
      "outputs": [
        {
          "data": {
            "text/html": [
              "<div>\n",
              "<style scoped>\n",
              "    .dataframe tbody tr th:only-of-type {\n",
              "        vertical-align: middle;\n",
              "    }\n",
              "\n",
              "    .dataframe tbody tr th {\n",
              "        vertical-align: top;\n",
              "    }\n",
              "\n",
              "    .dataframe thead th {\n",
              "        text-align: right;\n",
              "    }\n",
              "</style>\n",
              "<table border=\"1\" class=\"dataframe\">\n",
              "  <thead>\n",
              "    <tr style=\"text-align: right;\">\n",
              "      <th></th>\n",
              "      <th>CONTENT</th>\n",
              "      <th>CLASS</th>\n",
              "    </tr>\n",
              "  </thead>\n",
              "  <tbody>\n",
              "    <tr>\n",
              "      <th>0</th>\n",
              "      <td>i love this so much. AND also I Generate Free ...</td>\n",
              "      <td>1</td>\n",
              "    </tr>\n",
              "    <tr>\n",
              "      <th>1</th>\n",
              "      <td>http://www.billboard.com/articles/columns/pop-...</td>\n",
              "      <td>1</td>\n",
              "    </tr>\n",
              "    <tr>\n",
              "      <th>2</th>\n",
              "      <td>Hey guys! Please join me in my fight to help a...</td>\n",
              "      <td>1</td>\n",
              "    </tr>\n",
              "    <tr>\n",
              "      <th>3</th>\n",
              "      <td>http://psnboss.com/?ref=2tGgp3pV6L this is the...</td>\n",
              "      <td>1</td>\n",
              "    </tr>\n",
              "    <tr>\n",
              "      <th>4</th>\n",
              "      <td>Hey everyone. Watch this trailer!!!!!!!!  http...</td>\n",
              "      <td>1</td>\n",
              "    </tr>\n",
              "    <tr>\n",
              "      <th>...</th>\n",
              "      <td>...</td>\n",
              "      <td>...</td>\n",
              "    </tr>\n",
              "    <tr>\n",
              "      <th>1950</th>\n",
              "      <td>I love this song because we sing it at Camp al...</td>\n",
              "      <td>0</td>\n",
              "    </tr>\n",
              "    <tr>\n",
              "      <th>1951</th>\n",
              "      <td>I love this song for two reasons: 1.it is abou...</td>\n",
              "      <td>0</td>\n",
              "    </tr>\n",
              "    <tr>\n",
              "      <th>1952</th>\n",
              "      <td>wow</td>\n",
              "      <td>0</td>\n",
              "    </tr>\n",
              "    <tr>\n",
              "      <th>1953</th>\n",
              "      <td>Shakira u are so wiredo</td>\n",
              "      <td>0</td>\n",
              "    </tr>\n",
              "    <tr>\n",
              "      <th>1954</th>\n",
              "      <td>Shakira is the best dancer</td>\n",
              "      <td>0</td>\n",
              "    </tr>\n",
              "  </tbody>\n",
              "</table>\n",
              "<p>1955 rows × 2 columns</p>\n",
              "</div>"
            ],
            "text/plain": [
              "                                                CONTENT  CLASS\n",
              "0     i love this so much. AND also I Generate Free ...      1\n",
              "1     http://www.billboard.com/articles/columns/pop-...      1\n",
              "2     Hey guys! Please join me in my fight to help a...      1\n",
              "3     http://psnboss.com/?ref=2tGgp3pV6L this is the...      1\n",
              "4     Hey everyone. Watch this trailer!!!!!!!!  http...      1\n",
              "...                                                 ...    ...\n",
              "1950  I love this song because we sing it at Camp al...      0\n",
              "1951  I love this song for two reasons: 1.it is abou...      0\n",
              "1952                                                wow      0\n",
              "1953                            Shakira u are so wiredo      0\n",
              "1954                         Shakira is the best dancer      0\n",
              "\n",
              "[1955 rows x 2 columns]"
            ]
          },
          "execution_count": 17,
          "metadata": {},
          "output_type": "execute_result"
        }
      ],
      "source": [
        "# Create a dataframe that combines all pandas dataframes from the 'all_df' list\n",
        "data = pd.concat(all_df, axis=0, ignore_index=True)\n",
        "data"
      ]
    },
    {
      "cell_type": "code",
      "execution_count": null,
      "id": "3366d9d6",
      "metadata": {
        "id": "3366d9d6",
        "outputId": "5d27d91f-a489-4976-f784-6d62eb6cc931"
      },
      "outputs": [
        {
          "data": {
            "text/plain": [
              "CONTENT    0\n",
              "CLASS      0\n",
              "dtype: int64"
            ]
          },
          "execution_count": 18,
          "metadata": {},
          "output_type": "execute_result"
        }
      ],
      "source": [
        "# Check for null values.\n",
        "data.isnull().sum()"
      ]
    },
    {
      "cell_type": "code",
      "execution_count": null,
      "id": "9b0b4312",
      "metadata": {
        "id": "9b0b4312",
        "outputId": "39730c20-21fb-41f3-b886-d2562271a05d"
      },
      "outputs": [
        {
          "data": {
            "text/plain": [
              "1    1004\n",
              "0     951\n",
              "Name: CLASS, dtype: int64"
            ]
          },
          "execution_count": 19,
          "metadata": {},
          "output_type": "execute_result"
        }
      ],
      "source": [
        "# Check the number of representatives from each class. \n",
        "data['CLASS'].value_counts()"
      ]
    },
    {
      "cell_type": "markdown",
      "id": "a43299bb",
      "metadata": {
        "id": "a43299bb"
      },
      "source": [
        "### Sample 1"
      ]
    },
    {
      "cell_type": "code",
      "execution_count": null,
      "id": "d232ac2a",
      "metadata": {
        "id": "d232ac2a",
        "outputId": "ca02ea17-ec0e-4eb0-b2e5-78aaea675916"
      },
      "outputs": [
        {
          "data": {
            "text/plain": [
              "CountVectorizer()"
            ]
          },
          "execution_count": 20,
          "metadata": {},
          "output_type": "execute_result"
        }
      ],
      "source": [
        "# Define a list storing a single string\n",
        "message_sample = ['This is a dog']\n",
        "\n",
        "# Define an instance of the CountVectorizer class\n",
        "vectorizer_sample = CountVectorizer()\n",
        "\n",
        "# Learn a vocabulary dictionary of all tokens in 'message_sample'. A token is a word consisting of at least 2 letters.\n",
        "vectorizer_sample.fit(message_sample)"
      ]
    },
    {
      "cell_type": "code",
      "execution_count": null,
      "id": "66344ea2",
      "metadata": {
        "id": "66344ea2",
        "outputId": "715cf668-f8a3-4065-c907-74f74705f400"
      },
      "outputs": [
        {
          "data": {
            "text/plain": [
              "array([[1, 1, 1]])"
            ]
          },
          "execution_count": 21,
          "metadata": {},
          "output_type": "execute_result"
        }
      ],
      "source": [
        "# Transform the document into a document-term matrix. \n",
        "# Each 1 in the matrix represents the presence of a certain word in the fitted string(s).\n",
        "vectorizer_sample.transform(message_sample).toarray()"
      ]
    },
    {
      "cell_type": "code",
      "execution_count": null,
      "id": "c8de9c98",
      "metadata": {
        "id": "c8de9c98",
        "outputId": "edd56845-f307-45e3-e559-33a7e1ec1c62"
      },
      "outputs": [
        {
          "data": {
            "text/plain": [
              "array(['dog', 'is', 'this'], dtype=object)"
            ]
          },
          "execution_count": 22,
          "metadata": {},
          "output_type": "execute_result"
        }
      ],
      "source": [
        "# Output the words that represent each column in the matrix above.\n",
        "# For example, the first 1 in the matrix above corresponds to the presence of the word 'dog' in the string.\n",
        "# The 2nd 1 means that the string also includes the word 'is'.\n",
        "# The 3rd one means that the word 'this' is also present in the string\n",
        "# Notice how the article 'a' is not included in the list of tokens, as it consists of only one letter.\n",
        "vectorizer_sample.get_feature_names_out()"
      ]
    },
    {
      "cell_type": "code",
      "execution_count": null,
      "id": "b2366b2f",
      "metadata": {
        "id": "b2366b2f",
        "outputId": "8ab7636e-874d-4b34-caa0-91e78e12b65a"
      },
      "outputs": [
        {
          "data": {
            "text/plain": [
              "array([[0, 1, 1]])"
            ]
          },
          "execution_count": 23,
          "metadata": {},
          "output_type": "execute_result"
        }
      ],
      "source": [
        "# Apply the 'transform()' method to a new string and check which of the tokenized words are present.\n",
        "# We can see a 0 in the first column.\n",
        "# This indicate that the word 'dog' is absent from the transformed string.\n",
        "vectorizer_sample.transform(['This is a cat']).toarray()"
      ]
    },
    {
      "cell_type": "markdown",
      "id": "c9904cb1",
      "metadata": {
        "id": "c9904cb1"
      },
      "source": [
        "### Sample 2"
      ]
    },
    {
      "cell_type": "code",
      "execution_count": null,
      "id": "e4d4c6df",
      "metadata": {
        "id": "e4d4c6df",
        "outputId": "b0b47904-3a4a-41c5-f173-26ff5ff99b0f"
      },
      "outputs": [
        {
          "data": {
            "text/plain": [
              "array([[1, 0, 2, 2, 1, 1],\n",
              "       [0, 1, 0, 1, 0, 1]])"
            ]
          },
          "execution_count": 24,
          "metadata": {},
          "output_type": "execute_result"
        }
      ],
      "source": [
        "# Define a list storing two strings\n",
        "message_sample2 = ['This is a dog and that is a dog', 'This is a cat']\n",
        "\n",
        "# Define another instance of the CountVectorizer class\n",
        "vectorizer_sample2 = CountVectorizer()\n",
        "\n",
        "# Apply the 'fit()' and the 'transform()' methods simultaneously\n",
        "vectorizer_sample2.fit_transform(message_sample2).toarray()"
      ]
    },
    {
      "cell_type": "code",
      "execution_count": null,
      "id": "dec47fa6",
      "metadata": {
        "id": "dec47fa6",
        "outputId": "359d3cc2-baa4-4232-f415-ee3ac2c4bb7d"
      },
      "outputs": [
        {
          "data": {
            "text/plain": [
              "array(['and', 'cat', 'dog', 'is', 'that', 'this'], dtype=object)"
            ]
          },
          "execution_count": 25,
          "metadata": {},
          "output_type": "execute_result"
        }
      ],
      "source": [
        "# Output the words that represent each column in the matrix above.\n",
        "# The elements in the first column are 0 and 1.\n",
        "# This means that the word 'cat' is not present in the first string but is found in the second string.\n",
        "# The elements in the second column are 1 and 0.\n",
        "# Therefore, the word 'dog' is present in the first string, but not in the second.\n",
        "# We appply the same arguments to the elements of the third and the fourth column in the matrix.\n",
        "vectorizer_sample2.get_feature_names_out()"
      ]
    },
    {
      "cell_type": "code",
      "execution_count": null,
      "id": "9d096625",
      "metadata": {
        "id": "9d096625",
        "outputId": "e5f61bc2-d711-4bfc-9a40-f7df66110b1a"
      },
      "outputs": [
        {
          "data": {
            "text/plain": [
              "array([[0, 0, 0, 0, 0, 0]])"
            ]
          },
          "execution_count": 26,
          "metadata": {},
          "output_type": "execute_result"
        }
      ],
      "source": [
        "# Apply the 'transform()' method to a new string and check which of the tokenized words are present.\n",
        "# All columns are 0. Therefore, none of the words above are present in this string.\n",
        "vectorizer_sample2.transform(['Those are birds.']).toarray()"
      ]
    },
    {
      "cell_type": "markdown",
      "id": "1f11e30d",
      "metadata": {
        "id": "1f11e30d"
      },
      "source": [
        "### Defining the inputs and the target. Creating the train-test split."
      ]
    },
    {
      "cell_type": "code",
      "execution_count": null,
      "id": "943d3c91",
      "metadata": {
        "id": "943d3c91"
      },
      "outputs": [],
      "source": [
        "# Define the inputs and the target\n",
        "inputs = data['CONTENT']\n",
        "target = data['CLASS']"
      ]
    },
    {
      "cell_type": "code",
      "execution_count": null,
      "id": "24000367",
      "metadata": {
        "id": "24000367"
      },
      "outputs": [],
      "source": [
        "# Create a training and a testing dataset.\n",
        "# Choose the test size such that 20% of the data goes to testing.\n",
        "# Since 'train_test_split()' distributes the points randomly, we set a seed equal to 365\n",
        "# so that the final results are identical each time we run the split.\n",
        "# The 'stratify' argument allows for splitting the data in such a way that\n",
        "# the training and the testing datasets contain an equal portion of samples\n",
        "# from both classes.\n",
        "x_train, x_test, y_train, y_test = train_test_split(inputs, target, \n",
        "                                                    test_size=0.2, \n",
        "                                                    random_state=365, \n",
        "                                                    stratify = target)"
      ]
    },
    {
      "cell_type": "code",
      "execution_count": null,
      "id": "56a86113",
      "metadata": {
        "scrolled": true,
        "id": "56a86113",
        "outputId": "3f25b684-eb2c-4566-b6ba-abe531392f18"
      },
      "outputs": [
        {
          "data": {
            "text/plain": [
              "1    803\n",
              "0    761\n",
              "Name: CLASS, dtype: int64"
            ]
          },
          "execution_count": 29,
          "metadata": {},
          "output_type": "execute_result"
        }
      ],
      "source": [
        "# Check the counts on the ham and the spam messages in the training dataset.\n",
        "# You can choose to normalize the counts or display their actual value.\n",
        "# y_train.value_counts(normalize = True)\n",
        "y_train.value_counts()"
      ]
    },
    {
      "cell_type": "code",
      "execution_count": null,
      "id": "1aa25740",
      "metadata": {
        "id": "1aa25740",
        "outputId": "d15b4cf5-070f-422f-86d3-df682c3387eb"
      },
      "outputs": [
        {
          "data": {
            "text/plain": [
              "1    201\n",
              "0    190\n",
              "Name: CLASS, dtype: int64"
            ]
          },
          "execution_count": 30,
          "metadata": {},
          "output_type": "execute_result"
        }
      ],
      "source": [
        "# Check the counts on the ham and the spam messages in the test dataset.\n",
        "# You can choose to normalize the counts or display their actual value\n",
        "# y_test.value_counts(normalize = True)\n",
        "y_test.value_counts()"
      ]
    },
    {
      "cell_type": "markdown",
      "id": "7d29b855",
      "metadata": {
        "id": "7d29b855"
      },
      "source": [
        "### Tokenizing the YouTube comments"
      ]
    },
    {
      "cell_type": "code",
      "execution_count": null,
      "id": "1e1e0ccc",
      "metadata": {
        "id": "1e1e0ccc"
      },
      "outputs": [],
      "source": [
        "# Create an instance of the vectorizer class.\n",
        "vectorizer = CountVectorizer()"
      ]
    },
    {
      "cell_type": "code",
      "execution_count": null,
      "id": "bd5a0109",
      "metadata": {
        "id": "bd5a0109"
      },
      "outputs": [],
      "source": [
        "# Apply the fit_transform() method on the training data and the transform() method on the test data.\n",
        "# Note that we split the data *before* applying the 'fit_tranform()' method!\n",
        "# The 'fit_transform()' method is to be applied *only* on the training data!\n",
        "x_train_transf = vectorizer.fit_transform(x_train)\n",
        "x_test_transf = vectorizer.transform(x_test)"
      ]
    },
    {
      "cell_type": "code",
      "execution_count": null,
      "id": "bd330cd3",
      "metadata": {
        "id": "bd330cd3",
        "outputId": "8a3c0ad4-fd85-4842-e582-e4de314d1c35"
      },
      "outputs": [
        {
          "data": {
            "text/plain": [
              "array([[0, 0, 0, ..., 0, 0, 0],\n",
              "       [0, 0, 0, ..., 0, 0, 0],\n",
              "       [0, 0, 0, ..., 0, 0, 0],\n",
              "       ...,\n",
              "       [0, 0, 0, ..., 0, 0, 0],\n",
              "       [0, 0, 0, ..., 0, 0, 0],\n",
              "       [0, 0, 0, ..., 0, 0, 0]])"
            ]
          },
          "execution_count": 33,
          "metadata": {},
          "output_type": "execute_result"
        }
      ],
      "source": [
        "# Check how the 'x_train_transf' matrix looks like.\n",
        "# It is a sparse matrix i.e., contains mainly zeros.\n",
        "x_train_transf.toarray()"
      ]
    },
    {
      "cell_type": "code",
      "execution_count": null,
      "id": "16ff9702",
      "metadata": {
        "id": "16ff9702",
        "outputId": "861aea5f-cc94-48fd-a5a6-678b9a315b66"
      },
      "outputs": [
        {
          "data": {
            "text/plain": [
              "(1564, 3891)"
            ]
          },
          "execution_count": 34,
          "metadata": {},
          "output_type": "execute_result"
        }
      ],
      "source": [
        "# 1564 refers to all comments in the training dataset.\n",
        "# 3925 refers to all words that have been tokenized.\n",
        "x_train_transf.shape"
      ]
    },
    {
      "cell_type": "code",
      "execution_count": null,
      "id": "526ef1b2",
      "metadata": {
        "id": "526ef1b2",
        "outputId": "aa2771e8-2eec-40b8-b16b-3ba9215b8060"
      },
      "outputs": [
        {
          "data": {
            "text/plain": [
              "(391, 3891)"
            ]
          },
          "execution_count": 35,
          "metadata": {},
          "output_type": "execute_result"
        }
      ],
      "source": [
        "# 391 refers to all comments in the test dataset.\n",
        "# 3925 refers to all words that have been tokenized during the fitting process.\n",
        "x_test_transf.shape"
      ]
    },
    {
      "cell_type": "markdown",
      "id": "48788d47",
      "metadata": {
        "id": "48788d47"
      },
      "source": [
        "### Performing the classification"
      ]
    },
    {
      "cell_type": "code",
      "execution_count": null,
      "id": "cd45f652",
      "metadata": {
        "id": "cd45f652",
        "outputId": "ae8f1b95-3308-4dad-813e-bb7abf1550ae"
      },
      "outputs": [
        {
          "data": {
            "text/plain": [
              "MultinomialNB()"
            ]
          },
          "execution_count": 36,
          "metadata": {},
          "output_type": "execute_result"
        }
      ],
      "source": [
        "# Create an instance of the Multinomial Naive Bayes classifier\n",
        "clf = MultinomialNB()\n",
        "# clf = MultinomialNB(class_prior = np.array([0.6, 0.4]))\n",
        "\n",
        "# Fit the model to the training data\n",
        "clf.fit(x_train_transf, y_train)"
      ]
    },
    {
      "cell_type": "code",
      "execution_count": null,
      "id": "c5c20369",
      "metadata": {
        "id": "c5c20369",
        "outputId": "6cdb7d62-ff8a-4a1f-d778-1846d37de3a5"
      },
      "outputs": [
        {
          "data": {
            "text/plain": [
              "array([0.48657289, 0.51342711])"
            ]
          },
          "execution_count": 37,
          "metadata": {},
          "output_type": "execute_result"
        }
      ],
      "source": [
        "# Print the class priors.\n",
        "np.exp(clf.class_log_prior_)"
      ]
    },
    {
      "cell_type": "code",
      "execution_count": null,
      "id": "d343b857",
      "metadata": {
        "id": "d343b857",
        "outputId": "3730d8f8-26a7-4b97-8a07-29cd5af692da"
      },
      "outputs": [
        {
          "data": {
            "text/plain": [
              "{'alpha': 1.0, 'class_prior': None, 'fit_prior': True}"
            ]
          },
          "execution_count": 38,
          "metadata": {},
          "output_type": "execute_result"
        }
      ],
      "source": [
        "# Return the parameters of the classifier\n",
        "clf.get_params()"
      ]
    },
    {
      "cell_type": "markdown",
      "id": "73233e1a",
      "metadata": {
        "id": "73233e1a"
      },
      "source": [
        "### Performing the evaluation on the test dataset"
      ]
    },
    {
      "cell_type": "code",
      "execution_count": null,
      "id": "9f4ddc5a",
      "metadata": {
        "id": "9f4ddc5a"
      },
      "outputs": [],
      "source": [
        "# Predict the target of the observations in the test set\n",
        "y_test_pred = clf.predict(x_test_transf)"
      ]
    },
    {
      "cell_type": "code",
      "execution_count": null,
      "id": "9a5d3761",
      "metadata": {
        "id": "9a5d3761",
        "outputId": "fc0e081e-7e01-4157-8dd4-326c70ae8d4c"
      },
      "outputs": [
        {
          "data": {
            "image/png": "[encoded data removed]",
            "text/plain": [
              "<Figure size 432x288 with 2 Axes>"
            ]
          },
          "metadata": {
            "needs_background": "light"
          },
          "output_type": "display_data"
        }
      ],
      "source": [
        "# Drop the seaborn style, so that we remove the white lines passing throguh the numbers \n",
        "sns.reset_orig()\n",
        "\n",
        "# Create the confusion matrix by providing the true and the predicted values as arguments.\n",
        "ConfusionMatrixDisplay.from_predictions(\n",
        "    y_test, y_test_pred,\n",
        "    labels = clf.classes_,\n",
        "    cmap = 'magma'\n",
        ");"
      ]
    },
    {
      "cell_type": "code",
      "execution_count": null,
      "id": "6ce03591",
      "metadata": {
        "id": "6ce03591",
        "outputId": "d09c638b-6a99-4b1f-d16a-c0f9c8c8e888"
      },
      "outputs": [
        {
          "name": "stdout",
          "output_type": "stream",
          "text": [
            "              precision    recall  f1-score   support\n",
            "\n",
            "         Ham       0.97      0.88      0.92       190\n",
            "        Spam       0.90      0.97      0.93       201\n",
            "\n",
            "    accuracy                           0.93       391\n",
            "   macro avg       0.93      0.93      0.93       391\n",
            "weighted avg       0.93      0.93      0.93       391\n",
            "\n"
          ]
        }
      ],
      "source": [
        "# The classification report consists of the precision, recall and f1-score of each class as well as\n",
        "# the overall accuracy of the model.\n",
        "print(classification_report(y_test, y_test_pred, target_names = ['Ham', 'Spam']))"
      ]
    },
    {
      "cell_type": "markdown",
      "id": "0176bf70",
      "metadata": {
        "id": "0176bf70"
      },
      "source": [
        "### Creating probability-distribution figures"
      ]
    },
    {
      "cell_type": "code",
      "execution_count": null,
      "id": "632db61a",
      "metadata": {
        "id": "632db61a",
        "outputId": "08f7c07e-136d-4d0e-9db9-e57c19469209"
      },
      "outputs": [
        {
          "data": {
            "image/png": "[encoded data removed]",
            "text/plain": [
              "<Figure size 864x360 with 2 Axes>"
            ]
          },
          "metadata": {},
          "output_type": "display_data"
        }
      ],
      "source": [
        "# For each ovservation, store its probability of being a spam. Round it to 3 digits after the decimal points.\n",
        "# These probabilities will later serve as the x-coordinates of a scatter plot\n",
        "spam_proba = clf.predict_proba(x_test_transf).round(3)[:,1];\n",
        "\n",
        "# Create a new data frame which will store the true classes, the predicted classes and the predicted probability\n",
        "# for an observation to belong to the spam class\n",
        "df_scatter = pd.DataFrame()\n",
        "\n",
        "# Create the columns of the data frame\n",
        "df_scatter['True class'] = y_test\n",
        "df_scatter['Predicted class'] = y_test_pred\n",
        "df_scatter['Predicted probability (spam)'] = spam_proba\n",
        "\n",
        "# Reset the index of the data frame, so that the indexing is sequential\n",
        "df_scatter = df_scatter.reset_index(drop = True)\n",
        "\n",
        "# Define two palettes for the different plots\n",
        "palette_0 = sns.color_palette(['#000000'])\n",
        "palette_1 = sns.color_palette(['#FF0000'])\n",
        "\n",
        "# Create two new data frames. The first one stores the samples whose true class is 0.\n",
        "# The second one stores the samples whose true class is 1.\n",
        "df_scatter_0 = df_scatter[df_scatter['True class'] == 0].reset_index(drop = True)\n",
        "df_scatter_1 = df_scatter[df_scatter['True class'] == 1].reset_index(drop = True)\n",
        "\n",
        "# Set the seaborn style\n",
        "sns.set()\n",
        "\n",
        "# Create two subfigures, so that they are arranged in 2 rows and 1 column.\n",
        "# Set the size of the figures\n",
        "fig, (ax1, ax2) = plt.subplots(2, 1, figsize=(12,5))\n",
        "fig.tight_layout(pad = 3)\n",
        "\n",
        "# Create a scatter plot.\n",
        "# On the x-axis, we have the predicted probability of a comment being a spam.\n",
        "# The y-axis takes only one value - zero. We create an array full of zeros having a length equal to \n",
        "# the number of samples whose true class is 0.\n",
        "# The 'data' parameter specifies the dataset we are drawing the columns from.\n",
        "# The 'hue' parameter specifies the feature based on which the points are going to be colored. In this case,\n",
        "# this feature has only a single class - the 0 class.\n",
        "# The 's' parameter specifies the size of the points.\n",
        "# The 'markers' parameter determines the shape of the points.\n",
        "# The 'palette' parameter specifies the colors to be used in the plot.\n",
        "# The 'style' parameter connects markers to classes.\n",
        "# We have decided to set the 'legend' parameter equal to False as we have only one class in the plot. \n",
        "# We decide to remove the ticks from the y-axis as they can be chosen arbitrarily.\n",
        "sns.scatterplot(x = 'Predicted probability (spam)', \n",
        "                y = np.zeros(df_scatter_0.shape[0]), \n",
        "                data = df_scatter_0,\n",
        "                hue = 'True class', \n",
        "                s = 50,\n",
        "                markers = ['o'],\n",
        "                palette = palette_0,\n",
        "                style = 'True class',\n",
        "                legend = False, \n",
        "                ax = ax1).set(yticklabels=[])\n",
        "\n",
        "# Set a title above the first plot.\n",
        "ax1.set_title('Probability distribution of comments belonging to the true \\'ham\\' class')\n",
        "\n",
        "# Create a red vertical dashed line passing through the point x = 0.5\n",
        "# The first parameter specifies the x-coordinate.\n",
        "# The second and third parameters specify the min and the max y-coordinates.\n",
        "# We choose a dashed linestyle.\n",
        "# We color the line in red.\n",
        "ax1.vlines(0.5, -1, 1, linestyles = 'dashed', colors = 'red');\n",
        "\n",
        "# The comments above apply to this plot. The code is adapted to the spam class\n",
        "sns.scatterplot(x = 'Predicted probability (spam)', \n",
        "                y = np.zeros(df_scatter_1.shape[0]), \n",
        "                hue = 'True class', \n",
        "                data = df_scatter_1,\n",
        "                s = 50,\n",
        "                palette = palette_1,\n",
        "                markers = ['X'],\n",
        "                style = 'True class',\n",
        "                legend = False, \n",
        "                ax = ax2).set(yticklabels=[])\n",
        "\n",
        "# Set a title above the second plot.\n",
        "ax2.set_title('Probability distribution of comments belonging to the true \\'spam\\' class')\n",
        "\n",
        "# Create a red vertical dahsed line for the second plot\n",
        "ax2.vlines(0.5, -1, 1, linestyles = 'dashed', colors = 'red');"
      ]
    },
    {
      "cell_type": "markdown",
      "id": "4867d81a",
      "metadata": {
        "id": "4867d81a"
      },
      "source": [
        "### Making predictions"
      ]
    },
    {
      "cell_type": "code",
      "execution_count": null,
      "id": "4a276537",
      "metadata": {
        "id": "4a276537"
      },
      "outputs": [],
      "source": [
        "# Choose the messages whose class you want to predict and put them in a list.\n",
        "# Using the vectorizer, transform the messages and store the result in a variable called 'predict_data'.\n",
        "predict_data = vectorizer.transform(['This song is amazing!',\n",
        "                                     'You can win 1m dollars right now, just click here!!!'])"
      ]
    },
    {
      "cell_type": "code",
      "execution_count": null,
      "id": "1b3b3f29",
      "metadata": {
        "id": "1b3b3f29",
        "outputId": "2090a800-76b9-4c8a-e17f-183a6f69652b"
      },
      "outputs": [
        {
          "data": {
            "text/plain": [
              "array([0, 1])"
            ]
          },
          "execution_count": 44,
          "metadata": {},
          "output_type": "execute_result"
        }
      ],
      "source": [
        "# Call the 'predict()' method and use 'predict_data' as an argument.\n",
        "# The classifier correctly predicts the two messages.\n",
        "clf.predict(predict_data)"
      ]
    }
  ],
  "metadata": {
    "kernelspec": {
      "display_name": "Python 3 (ipykernel)",
      "language": "python",
      "name": "python3"
    },
    "language_info": {
      "codemirror_mode": {
        "name": "ipython",
        "version": 3
      },
      "file_extension": ".py",
      "mimetype": "text/x-python",
      "name": "python",
      "nbconvert_exporter": "python",
      "pygments_lexer": "ipython3",
      "version": "3.8.10"
    },
    "colab": {
      "name": "MultinomialNB_Demo.ipynb",
      "provenance": [],
      "include_colab_link": true
    }
  },
  "nbformat": 4,
  "nbformat_minor": 5
}